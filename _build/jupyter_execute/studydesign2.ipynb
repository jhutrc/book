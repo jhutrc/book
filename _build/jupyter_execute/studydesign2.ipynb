{
 "cells": [
  {
   "cell_type": "markdown",
   "id": "5bcf4939",
   "metadata": {},
   "source": [
    "# Study design\n",
    "\n",
    "Live kidney donors (OPTN), N=180,000\n",
    "\n",
    "     1. Registry\n",
    "     2. Screened\n",
    "     3. Healthy\n",
    "\n",
    "Matached nondonors (NHANES), N=150,000\n",
    "\n",
    "     1. Survey\n",
    "     2. Unscreened\n",
    "\n",
    "Key outcomes (LINKAGE)\n",
    "\n",
    "     1. Perioperative complications [^1]\n",
    "     2. ESRD\n",
    "     3. Survival\n",
    "     \n",
    "```     \n",
    "import pandas as pd\n",
    "import plotly.graph_objects as go\n",
    "\n",
    "# Define the labels, sources, targets, and values for the Sankey diagram\n",
    "label = ['Donors', 'General Population', 'Healthy Controls', 'Centers for Medicare', 'National Death Index', 'ESRD', 'Death']\n",
    "source = [0, 1, 2, 0, 1, 2, 3, 4]\n",
    "target = [3, 3, 3, 4, 4, 4, 5, 6]\n",
    "value = [57.1, 38.1, 4.8, 57.1, 38.1, 4.8, 10, 90]\n",
    "\n",
    "# Define colors for links and nodes\n",
    "link_color = ['#1f77b4', '#1f77b4', '#1f77b4', '#ff7f0e', '#ff7f0e', '#ff7f0e', '#2ca02c']\n",
    "node_color = ['#aec7e8', '#ffbb78', '#98df8a', '#ff9896', '#c5b0d5', '#c49c94', '#c7c7c7']\n",
    "\n",
    "# Define the Sankey diagram\n",
    "link = dict(source=source, target=target, value=value, color=link_color)\n",
    "node = dict(label=label, pad=50, thickness=30, color=node_color, line=dict(color='white', width=0.5))\n",
    "data = go.Sankey(link=link, node=node)\n",
    "\n",
    "# Define the layout for the Sankey diagram\n",
    "layout = dict(title=dict(text=\"Sankey Diagram\"), font=dict(size=14, family=\"Arial\"), height=600, width=800, margin=dict(l=50, r=50, t=50, b=50))\n",
    "\n",
    "# Create the figure and display it\n",
    "fig = go.Figure(data=data, layout=layout)\n",
    "fig.show()\n",
    "```\n",
    "\n",
    "[^1]: An issue of [resilience](https://journals.lww.com/journalacs/Abstract/2010/06000/Frailty_as_a_Predictor_of_Surgical_Outcomes_in.3.aspx) to surgical stress"
   ]
  }
 ],
 "metadata": {
  "jupytext": {
   "formats": "md:myst",
   "text_representation": {
    "extension": ".md",
    "format_name": "myst",
    "format_version": 0.13,
    "jupytext_version": "1.11.5"
   }
  },
  "kernelspec": {
   "display_name": "Python 3",
   "language": "python",
   "name": "python3"
  },
  "language_info": {
   "codemirror_mode": {
    "name": "ipython",
    "version": 3
   },
   "file_extension": ".py",
   "mimetype": "text/x-python",
   "name": "python",
   "nbconvert_exporter": "python",
   "pygments_lexer": "ipython3",
   "version": "3.10.9"
  },
  "source_map": [
   13
  ]
 },
 "nbformat": 4,
 "nbformat_minor": 5
}