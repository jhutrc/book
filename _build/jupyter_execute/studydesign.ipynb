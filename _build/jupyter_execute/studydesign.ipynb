{
 "cells": [
  {
   "attachments": {},
   "cell_type": "markdown",
   "metadata": {},
   "source": [
    "# Study design"
   ]
  },
  {
   "attachments": {},
   "cell_type": "markdown",
   "metadata": {},
   "source": [
    "Live kidney donors (OPTN), N=180,000\n",
    "\n",
    "     1. Registry\n",
    "     2. Screened\n",
    "     3. Healthy\n",
    "\n",
    "Matached nondonors (NHANES), N=150,000\n",
    "\n",
    "     1. Survey\n",
    "     2. Unscreened\n",
    "\n",
    "Key outcomes (LINKAGE)\n",
    "\n",
    "     1. Perioperative complications [^1]\n",
    "     2. ESRD\n",
    "     3. Survival"
   ]
  },
  {
   "cell_type": "code",
   "execution_count": 1,
   "metadata": {
    "vscode": {
     "languageId": "plaintext"
    }
   },
   "outputs": [
    {
     "ename": "SyntaxError",
     "evalue": "invalid syntax (978298166.py, line 1)",
     "output_type": "error",
     "traceback": [
      "\u001b[0;36m  Cell \u001b[0;32mIn[1], line 1\u001b[0;36m\u001b[0m\n\u001b[0;31m    ```{hidden-code-block}\u001b[0m\n\u001b[0m    ^\u001b[0m\n\u001b[0;31mSyntaxError\u001b[0m\u001b[0;31m:\u001b[0m invalid syntax\n"
     ]
    }
   ],
   "source": [
    "```{hidden-code-block}\n",
    "import pandas as pd\n",
    "import plotly.express as px\n",
    "import plotly.graph_objects as go \n",
    "import urllib, json\n",
    "import numpy as np\n",
    "import sqlite3 as sq3\n",
    "\n",
    "label = ['Donors',\n",
    "         \"General Population\", \n",
    "         \"Healthy Controls\", \n",
    "         \"Centers for Medicare\",\n",
    "         \"National Death Index\", \n",
    "         \"ESRD\", \n",
    "         \"Death\"]\n",
    "\n",
    "source = [0,1,2,   0,1,2,\n",
    "          3, 4]  \n",
    "\n",
    "target = [3,3,3,   4,4,4, \n",
    "          5, 6]  \n",
    "\n",
    "value = [57.1,38.1,4.8,  57.1,38.1,4.8, \n",
    "         10,90]   \n",
    "\n",
    "# Define colors for links and nodes\n",
    "link_color = ['#1f77b4', '#1f77b4', '#1f77b4', \n",
    "              '#ff7f0e', '#ff7f0e', '#ff7f0e', \n",
    "              '#2ca02c']\n",
    "node_color = ['#aec7e8', '#ffbb78', '#98df8a', \n",
    "              '#ff9896', '#c5b0d5', '#c49c94', \n",
    "              '#c7c7c7']\n",
    "\n",
    "link = dict(source=source, target=target, value=value, \n",
    "            color=link_color)\n",
    "node = dict(label=label, pad=50, thickness=30, \n",
    "            color=node_color, \n",
    "            line=dict(color='white', width=0.5))\n",
    "\n",
    "# Define figure layout\n",
    "layout = dict(title=dict(text=\"Sankey Diagram\"), \n",
    "              font=dict(size=14, family=\"Arial\"), \n",
    "              height=600, width=800, \n",
    "              margin=dict(l=50, r=50, t=50, b=50))\n",
    "\n",
    "data = go.Sankey(link=link, node=node)\n",
    "\n",
    "fig = go.Figure(data=data, layout=layout)\n",
    "html_sankey = fig.to_html(full_html=False)\n",
    "```\n"
   ]
  },
  {
   "cell_type": "code",
   "execution_count": null,
   "metadata": {
    "vscode": {
     "languageId": "plaintext"
    }
   },
   "outputs": [],
   "source": [
    "{html_sankey}\n"
   ]
  },
  {
   "attachments": {},
   "cell_type": "markdown",
   "metadata": {},
   "source": [
    "[^1]: An issue of [resilience](https://journals.lww.com/journalacs/Abstract/2010/06000/Frailty_as_a_Predictor_of_Surgical_Outcomes_in.3.aspx) to surgical stress"
   ]
  }
 ],
 "metadata": {
  "kernelspec": {
   "display_name": "Python 3",
   "language": "python",
   "name": "python3"
  },
  "language_info": {
   "codemirror_mode": {
    "name": "ipython",
    "version": 3
   },
   "file_extension": ".py",
   "mimetype": "text/x-python",
   "name": "python",
   "nbconvert_exporter": "python",
   "pygments_lexer": "ipython3",
   "version": "3.10.9"
  },
  "widgets": {
   "application/vnd.jupyter.widget-state+json": {
    "state": {},
    "version_major": 2,
    "version_minor": 0
   }
  }
 },
 "nbformat": 4,
 "nbformat_minor": 4
}