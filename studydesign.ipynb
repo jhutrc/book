{
 "cells": [
  {
   "attachments": {},
   "cell_type": "markdown",
   "metadata": {},
   "source": [
    "# Study design"
   ]
  },
  {
   "attachments": {},
   "cell_type": "markdown",
   "metadata": {},
   "source": [
    "Live kidney donors (OPTN), N=180,000\n",
    "\n",
    "     1. Registry\n",
    "     2. Screened\n",
    "     3. Healthy\n",
    "\n",
    "Matached nondonors (NHANES), N=150,000\n",
    "\n",
    "     1. Survey\n",
    "     2. Unscreened\n",
    "\n",
    "Key outcomes (LINKAGE)\n",
    "\n",
    "     1. Perioperative complications [^1]\n",
    "     2. ESRD\n",
    "     3. Survival"
   ]
  },
  {
   "cell_type": "code",
   "execution_count": null,
   "metadata": {
    "tags": [
     "hide cell input"
    ]
   },
   "outputs": [],
   "source": [
    "# Add the jupyterbook-hide-input tag to this cell\n",
    "from IPython.display import HTML\n",
    "HTML('''<script>\n",
    "    var cell = $(this).closest('.cell');\n",
    "    cell.metadata.set(\"jupyterbook\", {\"tags\": [\"jupyterbook-hide-input\"]})\n",
    "</script>''')\n",
    "\n",
    "import plotly.graph_objects as go\n",
    "from IPython.display import HTML\n",
    "\n",
    "# Define the labels, source, target, and value for each link\n",
    "labels = ['Donors', 'General Population', 'Healthy Controls', 'Centers for Medicare', \n",
    "          'National Death Index', 'ESRD', 'Death']\n",
    "source = [0, 1, 2, 0, 1, 2, 3, 4]\n",
    "target = [3, 3, 3, 4, 4, 4, 5, 6]\n",
    "value = [57.1, 38.1, 4.8, 57.1, 38.1, 4.8, 10, 90]\n",
    "\n",
    "# Define the color for each node\n",
    "color = ['#aec7e8', '#ffbb78', '#98df8a', '#ff9896', '#c5b0d5', '#c49c94', '#c7c7c7']\n",
    "\n",
    "# Create the Sankey diagram figure\n",
    "fig = go.Figure(data=[go.Sankey(\n",
    "    node = dict(\n",
    "      pad = 15,\n",
    "      thickness = 20,\n",
    "      line = dict(color = \"black\", width = 0.5),\n",
    "      label = labels,\n",
    "      color = color\n",
    "    ),\n",
    "    link = dict(\n",
    "      source = source,\n",
    "      target = target,\n",
    "      value = value,\n",
    "      color = color\n",
    "  ))])\n",
    "\n",
    "# Customize the figure layout\n",
    "fig.update_layout(\n",
    "    title={\n",
    "        'text': \"Interactive Sankey Diagram\",\n",
    "        'x': 0.5,\n",
    "        'y': 0.9,\n",
    "        'font': {'size': 24}\n",
    "    },\n",
    "    font=dict(size=14),\n",
    "    height=600,\n",
    "    width=800,\n",
    "    margin=dict(l=50, r=50, t=50, b=50)\n",
    ")\n",
    "\n",
    "# Generate the HTML representation of the Sankey diagram\n",
    "html = fig.to_html(full_html=False)\n",
    "\n",
    "# Display the HTML in Jupyter Book\n",
    "HTML(html)\n"
   ]
  },
  {
   "attachments": {},
   "cell_type": "markdown",
   "metadata": {},
   "source": [
    "Database --> Linkage --> Outcomes"
   ]
  },
  {
   "cell_type": "code",
   "execution_count": 10,
   "metadata": {},
   "outputs": [
    {
     "data": {
      "image/png": "[encoded data removed]",
      "text/plain": [
       "<Figure size 200x200 with 1 Axes>"
      ]
     },
     "metadata": {},
     "output_type": "display_data"
    }
   ],
   "source": [
    "import networkx as nx\n",
    "import matplotlib.pyplot as plt\n",
    "#import numpy as np\n",
    "#import sklearn as skl\n",
    "\n",
    "plt.figure(figsize=[2, 2])\n",
    "G = nx.DiGraph()\n",
    "\n",
    "G.add_node(\"GH\",    pos = (.5, 1) )\n",
    "G.add_node(\"Local\", pos = (.5, 0))\n",
    "#G.add_edge(\"GH\", \"Local\")\n",
    "G.add_edge(\"Local\", \"GH\")\n",
    "nx.draw(G, \n",
    "        nx.get_node_attributes(G, 'pos'), \n",
    "        with_labels=True, \n",
    "        font_weight='bold', \n",
    "        node_size = 2000,\n",
    "        node_color = \"lightblue\",\n",
    "        linewidths = 3)\n",
    "ax= plt.gca()\n",
    "ax.collections[0].set_edgecolor(\"#000000\")\n",
    "ax.set_xlim([-.3, 1.3])\n",
    "ax.set_ylim([-.3, 1.3])\n",
    "plt.show()"
   ]
  },
  {
   "attachments": {},
   "cell_type": "markdown",
   "metadata": {},
   "source": [
    "[^1]: The issue of [resilience](https://journals.lww.com/journalacs/Abstract/2010/06000/Frailty_as_a_Predictor_of_Surgical_Outcomes_in.3.aspx) to surgical stressors"
   ]
  }
 ],
 "metadata": {
  "kernelspec": {
   "display_name": "Python 3",
   "language": "python",
   "name": "python3"
  },
  "language_info": {
   "codemirror_mode": {
    "name": "ipython",
    "version": 3
   },
   "file_extension": ".py",
   "mimetype": "text/x-python",
   "name": "python",
   "nbconvert_exporter": "python",
   "pygments_lexer": "ipython3",
   "version": "3.11.2"
  },
  "widgets": {
   "application/vnd.jupyter.widget-state+json": {
    "state": {},
    "version_major": 2,
    "version_minor": 0
   }
  }
 },
 "nbformat": 4,
 "nbformat_minor": 4
}
