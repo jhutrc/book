{
 "cells": [
  {
   "attachments": {},
   "cell_type": "markdown",
   "metadata": {},
   "source": [
    "# Statistical analysis"
   ]
  },
  {
   "attachments": {},
   "cell_type": "markdown",
   "metadata": {},
   "source": [
    "Poisson regression (perioperative outcomes)\n",
    "\n",
    "     1. complications/rehospitalization\n",
    "     2. perioperative mortality\n",
    "\n",
    "Survival anlaysis (long-term ESRD, mortality)\n",
    "\n",
    "     1. kaplan-meier\n",
    "     2. Cox regression\n",
    "\n",
    "Risk attributable to donation (donors vs. nondonors)\n",
    "\n",
    "     1. difference in absolute risk\n",
    "     2. assessed over 30 years post-donation"
   ]
  }
 ],
 "metadata": {
  "kernelspec": {
   "display_name": "Python 3",
   "language": "python",
   "name": "python3"
  },
  "language_info": {
   "codemirror_mode": {
    "name": "ipython",
    "version": 3
   },
   "file_extension": ".py",
   "mimetype": "text/x-python",
   "name": "python",
   "nbconvert_exporter": "python",
   "pygments_lexer": "ipython3",
   "version": "3.8.0"
  },
  "widgets": {
   "application/vnd.jupyter.widget-state+json": {
    "state": {},
    "version_major": 2,
    "version_minor": 0
   }
  }
 },
 "nbformat": 4,
 "nbformat_minor": 4
}
