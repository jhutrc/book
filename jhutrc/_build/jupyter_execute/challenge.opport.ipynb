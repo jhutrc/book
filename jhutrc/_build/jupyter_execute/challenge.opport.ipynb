{
 "cells": [
  {
   "cell_type": "markdown",
   "id": "24af231e",
   "metadata": {},
   "source": [
    "# Challenges & opportunities\n",
    "\n",
    "Challenges\n",
    "\n",
    "   1. Several datasets (source population, outcome ascertainment)\n",
    "   2. Restricted access to data (strictly onsite, successful applicants)\n",
    "   3. Outcomes absent from registries (frailty, ADLs, syndromes)\n",
    "\n",
    "Opportunities\n",
    "\n",
    "   1. Very robust ascertainment of solid outcomes at national level\n",
    "   2. My application for access to the RDC/NCHS/CDC restricted data was approved\n",
    "   3. Sentinel hospitalization events in aging cohorts leave a footprint"
   ]
  }
 ],
 "metadata": {
  "jupytext": {
   "formats": "md:myst",
   "text_representation": {
    "extension": ".md",
    "format_name": "myst",
    "format_version": 0.13,
    "jupytext_version": "1.11.5"
   }
  },
  "kernelspec": {
   "display_name": "Python 3",
   "language": "python",
   "name": "python3"
  },
  "language_info": {
   "codemirror_mode": {
    "name": "ipython",
    "version": 3
   },
   "file_extension": ".py",
   "mimetype": "text/x-python",
   "name": "python",
   "nbconvert_exporter": "python",
   "pygments_lexer": "ipython3",
   "version": "3.10.9"
  },
  "source_map": [
   13
  ]
 },
 "nbformat": 4,
 "nbformat_minor": 5
}